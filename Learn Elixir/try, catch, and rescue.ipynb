{
 "cells": [
  {
   "cell_type": "markdown",
   "metadata": {},
   "source": [
    "## Errors"
   ]
  },
  {
   "cell_type": "markdown",
   "metadata": {},
   "source": [
    "Erros(or exceptions) are used when exceptional things happen in the code"
   ]
  },
  {
   "cell_type": "code",
   "execution_count": 1,
   "metadata": {},
   "outputs": [
    {
     "ename": "ArithmeticError",
     "evalue": "1",
     "output_type": "error",
     "traceback": [
      "** %ArithmeticError{message: \"bad argument in arithmetic expression\"}"
     ]
    }
   ],
   "source": [
    ":foo + 1"
   ]
  },
  {
   "cell_type": "code",
   "execution_count": 1,
   "metadata": {},
   "outputs": [
    {
     "ename": "RuntimeError",
     "evalue": "1",
     "output_type": "error",
     "traceback": [
      "** %RuntimeError{message: \"oops\"}"
     ]
    }
   ],
   "source": [
    "raise \"oops\""
   ]
  },
  {
   "cell_type": "code",
   "execution_count": 1,
   "metadata": {},
   "outputs": [
    {
     "ename": "ArgumentError",
     "evalue": "1",
     "output_type": "error",
     "traceback": [
      "** (ArgumentError) \"invalid argument foo\""
     ]
    }
   ],
   "source": [
    "raise ArgumentError, message: \"invalid argument foo\""
   ]
  },
  {
   "cell_type": "markdown",
   "metadata": {},
   "source": [
    "You can also define your own errors by creating a module and using the `defexception` construct inside it; this way, you'll create an error with the same name as the module it's defined in. "
   ]
  },
  {
   "cell_type": "code",
   "execution_count": 1,
   "metadata": {},
   "outputs": [
    {
     "data": {
      "text/plain": [
       "{:module, MyError, <<70, 79, 82, 49, 0, 0, 12, 16, 66, 69, 65, 77, 65, 116, 85, 56, 0, 0, 1, 81, 0, 0, 0, 34, 14, 69, 108, 105, 120, 105, 114, 46, 77, 121, 69, 114, 114, 111, 114, 8, 95, 95, 105, 110, 102, 111, 95, ...>>, :ok}"
      ]
     },
     "execution_count": 1,
     "metadata": {},
     "output_type": "execute_result"
    }
   ],
   "source": [
    "defmodule MyError do\n",
    "defexception message: \"default message\"\n",
    "end"
   ]
  },
  {
   "cell_type": "code",
   "execution_count": 2,
   "metadata": {},
   "outputs": [
    {
     "ename": "MyError",
     "evalue": "1",
     "output_type": "error",
     "traceback": [
      "** %MyError{message: \"default message\"}"
     ]
    }
   ],
   "source": [
    "raise MyError"
   ]
  },
  {
   "cell_type": "code",
   "execution_count": 2,
   "metadata": {},
   "outputs": [
    {
     "ename": "MyError",
     "evalue": "1",
     "output_type": "error",
     "traceback": [
      "** %MyError{message: \"custom message\"}"
     ]
    }
   ],
   "source": [
    "raise MyError, message: \"custom message\""
   ]
  },
  {
   "cell_type": "code",
   "execution_count": 2,
   "metadata": {},
   "outputs": [
    {
     "data": {
      "text/plain": [
       "%RuntimeError{message: \"oops\"}"
      ]
     },
     "execution_count": 2,
     "metadata": {},
     "output_type": "execute_result"
    }
   ],
   "source": [
    "try do\n",
    "raise \"oops\"\n",
    "rescue\n",
    "e in RuntimeError -> e\n",
    "end"
   ]
  },
  {
   "cell_type": "code",
   "execution_count": 3,
   "metadata": {},
   "outputs": [
    {
     "data": {
      "text/plain": [
       "\"Error!\""
      ]
     },
     "execution_count": 3,
     "metadata": {},
     "output_type": "execute_result"
    }
   ],
   "source": [
    "try do\n",
    "raise \"oops\"\n",
    "rescue\n",
    "RuntimeError -> \"Error!\"\n",
    "end"
   ]
  },
  {
   "cell_type": "code",
   "execution_count": 4,
   "metadata": {},
   "outputs": [
    {
     "data": {
      "text/plain": [
       "{:error, :enoent}"
      ]
     },
     "execution_count": 4,
     "metadata": {},
     "output_type": "execute_result"
    }
   ],
   "source": [
    "File.read(\"aa\")"
   ]
  },
  {
   "cell_type": "code",
   "execution_count": 5,
   "metadata": {},
   "outputs": [
    {
     "ename": "File.Error",
     "evalue": "1",
     "output_type": "error",
     "traceback": [
      "** %File.Error{action: \"read file\", path: \"aa\", reason: :enoent}"
     ]
    }
   ],
   "source": [
    "File.read!(\"aa\")"
   ]
  },
  {
   "cell_type": "markdown",
   "metadata": {},
   "source": [
    "In elixir, we avoid use `try/rescue` because `we don't use errors for control flow`. We take errors literally: they are reserved for unexpected and/or exceptional situations. Incase you actually need flow constructs, `throws` should be used. That's what we are going to see next"
   ]
  },
  {
   "cell_type": "code",
   "execution_count": null,
   "metadata": {},
   "outputs": [],
   "source": []
  },
  {
   "cell_type": "code",
   "execution_count": null,
   "metadata": {},
   "outputs": [],
   "source": []
  }
 ],
 "metadata": {
  "kernelspec": {
   "display_name": "Elixir",
   "language": "Elixir",
   "name": "ielixir"
  },
  "language_info": {
   "codemirror_mode": "elixir",
   "file_extension": "ex",
   "mimetype": "text/x-elixir",
   "name": "elixir",
   "nbconvert_exporter": "",
   "pygments_lexer": "elixir",
   "version": "#Version<1.6.5>"
  }
 },
 "nbformat": 4,
 "nbformat_minor": 2
}
