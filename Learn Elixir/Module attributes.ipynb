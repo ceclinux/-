{
 "cells": [
  {
   "cell_type": "markdown",
   "metadata": {},
   "source": [
    "Module attributes in Elixir serve three purposes\n",
    "1. They serve to annotate the module, often with information to be used by the user or the VM\n",
    "2. They work as constaants\n",
    "3. They work as a temporary module storage to be used during compilation"
   ]
  },
  {
   "cell_type": "markdown",
   "metadata": {},
   "source": [
    "Elixir brings the concept of module attributes from Erlang. For example"
   ]
  },
  {
   "cell_type": "code",
   "execution_count": 1,
   "metadata": {},
   "outputs": [
    {
     "data": {
      "text/plain": [
       "{:module, MyServer, <<70, 79, 82, 49, 0, 0, 3, 68, 66, 69, 65, 77, 65, 116, 85, 56, 0, 0, 0, 122, 0, 0, 0, 12, 15, 69, 108, 105, 120, 105, 114, 46, 77, 121, 83, 101, 114, 118, 101, 114, 8, 95, 95, 105, 110, 102, 111, ...>>, :ok}"
      ]
     },
     "execution_count": 1,
     "metadata": {},
     "output_type": "execute_result"
    }
   ],
   "source": [
    "defmodule MyServer do\n",
    "  @vsn 2\n",
    "  end"
   ]
  },
  {
   "cell_type": "markdown",
   "metadata": {},
   "source": [
    "In the example above, we are explicitly setting the version attribute for that module. `@vsn` is used by the code reloading mechanism in the Erlang VM to check if a module has been updated or not. If not version is specified, the verson is set to the MD5 checksum of the module functions."
   ]
  },
  {
   "cell_type": "markdown",
   "metadata": {},
   "source": [
    "## As constants"
   ]
  },
  {
   "cell_type": "markdown",
   "metadata": {},
   "source": [
    "Elixir developers often use module attributes when they wish to make a value more visible or resuable:"
   ]
  },
  {
   "cell_type": "code",
   "execution_count": 2,
   "metadata": {},
   "outputs": [
    {
     "name": "stdout",
     "output_type": "stream",
     "text": [
      "%{host: \"127.0.0.1\", port: 3456}\n"
     ]
    },
    {
     "data": {
      "text/plain": [
       "{:module, MyServer, <<70, 79, 82, 49, 0, 0, 3, 76, 66, 69, 65, 77, 65, 116, 85, 56, 0, 0, 0, 122, 0, 0, 0, 12, 15, 69, 108, 105, 120, 105, 114, 46, 77, 121, 83, 101, 114, 118, 101, 114, 8, 95, 95, 105, 110, 102, 111, ...>>, %{host: \"127.0.0.1\", port: 3456}}"
      ]
     },
     "execution_count": 2,
     "metadata": {},
     "output_type": "execute_result"
    }
   ],
   "source": [
    "defmodule MyServer do\n",
    "@initial_state %{host: \"127.0.0.1\", port: 3456}\n",
    "IO.inspect @initial_state\n",
    "end"
   ]
  },
  {
   "cell_type": "code",
   "execution_count": 3,
   "metadata": {},
   "outputs": [
    {
     "data": {
      "text/plain": [
       "{:module, MyServer, <<70, 79, 82, 49, 0, 0, 3, 76, 66, 69, 65, 77, 65, 116, 85, 56, 0, 0, 0, 122, 0, 0, 0, 12, 15, 69, 108, 105, 120, 105, 114, 46, 77, 121, 83, 101, 114, 118, 101, 114, 8, 95, 95, 105, 110, 102, 111, ...>>, nil}"
      ]
     },
     "execution_count": 3,
     "metadata": {},
     "output_type": "execute_result"
    }
   ],
   "source": [
    "defmodule MyServer do\n",
    "@unknown\n",
    "end"
   ]
  },
  {
   "cell_type": "markdown",
   "metadata": {},
   "source": [
    "Attributs can also be read inside functions:"
   ]
  },
  {
   "cell_type": "code",
   "execution_count": 4,
   "metadata": {},
   "outputs": [
    {
     "data": {
      "text/plain": [
       "{:module, MyServer, <<70, 79, 82, 49, 0, 0, 4, 72, 66, 69, 65, 77, 65, 116, 85, 56, 0, 0, 0, 145, 0, 0, 0, 14, 15, 69, 108, 105, 120, 105, 114, 46, 77, 121, 83, 101, 114, 118, 101, 114, 8, 95, 95, 105, 110, 102, 111, ...>>, {:second_data, 0}}"
      ]
     },
     "execution_count": 4,
     "metadata": {},
     "output_type": "execute_result"
    }
   ],
   "source": [
    "defmodule MyServer do\n",
    "@my_data 14\n",
    "def first_data, do: @my_data\n",
    "@my_data 13\n",
    "def second_data, do: @my_data\n",
    "end"
   ]
  },
  {
   "cell_type": "code",
   "execution_count": 5,
   "metadata": {},
   "outputs": [
    {
     "data": {
      "text/plain": [
       "14"
      ]
     },
     "execution_count": 5,
     "metadata": {},
     "output_type": "execute_result"
    }
   ],
   "source": [
    "MyServer.first_data"
   ]
  },
  {
   "cell_type": "code",
   "execution_count": 6,
   "metadata": {},
   "outputs": [
    {
     "data": {
      "text/plain": [
       "13"
      ]
     },
     "execution_count": 6,
     "metadata": {},
     "output_type": "execute_result"
    }
   ],
   "source": [
    "MyServer.second_data"
   ]
  },
  {
   "cell_type": "markdown",
   "metadata": {},
   "source": [
    "Every time an attribute is read inside a function, a snapshot of its current value is take. In other words, the value is read at compilation time and not at runtime. As we are going to see, this also makes attributes useful as storage during module compilation"
   ]
  },
  {
   "cell_type": "markdown",
   "metadata": {},
   "source": [
    "Normally, repeating a module attribute will cause ites value to be reassigned , but there are circumstances where you may want to configure the module the module attributes so that that its values are accumulated"
   ]
  },
  {
   "cell_type": "code",
   "execution_count": 1,
   "metadata": {},
   "outputs": [
    {
     "name": "stdout",
     "output_type": "stream",
     "text": [
      "[:bar, :foo]\n"
     ]
    },
    {
     "data": {
      "text/plain": [
       "{:module, Foo, <<70, 79, 82, 49, 0, 0, 3, 64, 66, 69, 65, 77, 65, 116, 85, 56, 0, 0, 0, 117, 0, 0, 0, 12, 10, 69, 108, 105, 120, 105, 114, 46, 70, 111, 111, 8, 95, 95, 105, 110, 102, 111, 95, 95, 3, 109, 100, ...>>, [:bar, :foo]}"
      ]
     },
     "execution_count": 1,
     "metadata": {},
     "output_type": "execute_result"
    }
   ],
   "source": [
    "defmodule Foo do\n",
    "Module.register_attribute __MODULE__, :param, accumulate: true\n",
    "@param :foo\n",
    "@param :bar\n",
    "IO.inspect @param\n",
    "end"
   ]
  },
  {
   "cell_type": "code",
   "execution_count": 3,
   "metadata": {},
   "outputs": [
    {
     "data": {
      "text/plain": [
       "{:module, MyApp.Status, <<70, 79, 82, 49, 0, 0, 5, 32, 66, 69, 65, 77, 65, 116, 85, 56, 0, 0, 0, 148, 0, 0, 0, 15, 19, 69, 108, 105, 120, 105, 114, 46, 77, 121, 65, 112, 112, 46, 83, 116, 97, 116, 117, 115, 8, 95, 95, ...>>, {:status, 1}}"
      ]
     },
     "execution_count": 3,
     "metadata": {},
     "output_type": "execute_result"
    }
   ],
   "source": [
    "defmodule MyApp.Status do\n",
    "  @service URI.parse(\"https://example.com\")\n",
    "  def status(email), do: IO.puts(@service)\n",
    "end\n"
   ]
  },
  {
   "cell_type": "code",
   "execution_count": 5,
   "metadata": {},
   "outputs": [
    {
     "name": "stdout",
     "output_type": "stream",
     "text": [
      "https://example.com\n"
     ]
    },
    {
     "data": {
      "text/plain": [
       ":ok"
      ]
     },
     "execution_count": 5,
     "metadata": {},
     "output_type": "execute_result"
    }
   ],
   "source": [
    "MyApp.Status.status(\"dd\")"
   ]
  }
 ],
 "metadata": {
  "kernelspec": {
   "display_name": "Elixir",
   "language": "Elixir",
   "name": "ielixir"
  },
  "language_info": {
   "codemirror_mode": "elixir",
   "file_extension": "ex",
   "mimetype": "text/x-elixir",
   "name": "elixir",
   "nbconvert_exporter": "",
   "pygments_lexer": "elixir",
   "version": "#Version<1.6.5>"
  }
 },
 "nbformat": 4,
 "nbformat_minor": 2
}
