{
 "cells": [
  {
   "cell_type": "code",
   "execution_count": 1,
   "metadata": {},
   "outputs": [
    {
     "data": {
      "text/plain": [
       "Foo.Bar"
      ]
     },
     "execution_count": 1,
     "metadata": {},
     "output_type": "execute_result"
    }
   ],
   "source": [
    "# Alias the module so it can be called as Bar instead of Foo.Bar\n",
    "\n",
    "alias Foo.Bar, as: Bar"
   ]
  },
  {
   "cell_type": "code",
   "execution_count": 2,
   "metadata": {},
   "outputs": [
    {
     "data": {
      "text/plain": [
       "nil"
      ]
     },
     "execution_count": 2,
     "metadata": {},
     "output_type": "execute_result"
    }
   ],
   "source": [
    "# Require the module in order to use its macro"
   ]
  },
  {
   "cell_type": "code",
   "execution_count": 3,
   "metadata": {},
   "outputs": [
    {
     "ename": "CompileError",
     "evalue": "1",
     "output_type": "error",
     "traceback": [
      "** (CompileError) console:1 \"module Foo is not loaded and could not be found\""
     ]
    }
   ],
   "source": [
    "require Foo"
   ]
  },
  {
   "cell_type": "code",
   "execution_count": 4,
   "metadata": {},
   "outputs": [
    {
     "ename": "CompileError",
     "evalue": "1",
     "output_type": "error",
     "traceback": [
      "** (CompileError) console:2 \"module Foo is not loaded and could not be found\""
     ]
    }
   ],
   "source": [
    "# Import functions from Fod so they can be called without the `Foo.` prefix\n",
    "import Foo"
   ]
  },
  {
   "cell_type": "code",
   "execution_count": 5,
   "metadata": {},
   "outputs": [
    {
     "ename": "CompileError",
     "evalue": "1",
     "output_type": "error",
     "traceback": [
      "** (CompileError) console:3 \"module Foo is not loaded and could not be found\""
     ]
    }
   ],
   "source": [
    "# Invokes the custom code defined in Foo as an extension point\n",
    "\n",
    "use Foo"
   ]
  },
  {
   "cell_type": "markdown",
   "metadata": {},
   "source": [
    "We are going to explore them in detail now. Keep in mind the first three are called directives because they have **lexical scope**, while `use` is a common extension point that allows the used module to inject code."
   ]
  },
  {
   "cell_type": "markdown",
   "metadata": {},
   "source": [
    "## alias"
   ]
  },
  {
   "cell_type": "markdown",
   "metadata": {},
   "source": [
    "`alias`  allows you to set up aliaes for any given module name."
   ]
  },
  {
   "cell_type": "markdown",
   "metadata": {},
   "source": [
    "Imageine a module uses a specialized list implemented in `Math.List`. The `alias` directive allows referring to `Math.List` just as `List` within the module definition"
   ]
  },
  {
   "cell_type": "markdown",
   "metadata": {},
   "source": [
    "The original `List` can still be accessed within `Stats` by the fully qualified name `Elixir.List`"
   ]
  },
  {
   "cell_type": "code",
   "execution_count": 10,
   "metadata": {},
   "outputs": [
    {
     "data": {
      "text/plain": [
       "{:module, Stats, <<70, 79, 82, 49, 0, 0, 3, 68, 66, 69, 65, 77, 65, 116, 85, 56, 0, 0, 0, 119, 0, 0, 0, 12, 12, 69, 108, 105, 120, 105, 114, 46, 83, 116, 97, 116, 115, 8, 95, 95, 105, 110, 102, 111, 95, 95, 3, ...>>, {:module, Stats.Wawa, <<70, 79, 82, 49, 0, 0, 3, 216, 66, 69, 65, 77, 65, 116, 85, 56, 0, 0, 0, 126, 0, 0, 0, 13, 17, 69, 108, 105, 120, 105, 114, 46, 83, 116, 97, 116, 115, 46, 87, 97, 119, 97, 8, ...>>, {:t, 0}}}"
      ]
     },
     "execution_count": 10,
     "metadata": {},
     "output_type": "execute_result"
    }
   ],
   "source": [
    "defmodule Stats do \n",
    "defmodule Wawa do\n",
    "def t do\n",
    "1\n",
    "end\n",
    "end\n",
    "end"
   ]
  },
  {
   "cell_type": "code",
   "execution_count": 14,
   "metadata": {},
   "outputs": [
    {
     "data": {
      "text/plain": [
       "{:module, TT, <<70, 79, 82, 49, 0, 0, 4, 24, 66, 69, 65, 77, 65, 116, 85, 56, 0, 0, 0, 139, 0, 0, 0, 15, 9, 69, 108, 105, 120, 105, 114, 46, 84, 84, 8, 95, 95, 105, 110, 102, 111, 95, 95, 9, 102, 117, 110, ...>>, {:ll, 0}}"
      ]
     },
     "execution_count": 14,
     "metadata": {},
     "output_type": "execute_result"
    }
   ],
   "source": [
    "defmodule TT do\n",
    "\n",
    "def ll do\n",
    "alias Stats.Wawa\n",
    "Wawa.t\n",
    "end\n",
    "end\n"
   ]
  },
  {
   "cell_type": "code",
   "execution_count": 15,
   "metadata": {},
   "outputs": [
    {
     "data": {
      "text/plain": [
       "1"
      ]
     },
     "execution_count": 15,
     "metadata": {},
     "output_type": "execute_result"
    }
   ],
   "source": [
    "TT.ll"
   ]
  },
  {
   "cell_type": "markdown",
   "metadata": {},
   "source": [
    "Alias are frequently used to define shortcuts. In fact, calling `alias` without `:as` option sets the alias automatically to the part of the module name, for example:"
   ]
  },
  {
   "cell_type": "code",
   "execution_count": 8,
   "metadata": {},
   "outputs": [
    {
     "data": {
      "text/plain": [
       "Math.List"
      ]
     },
     "execution_count": 8,
     "metadata": {},
     "output_type": "execute_result"
    }
   ],
   "source": [
    "alias Math.List"
   ]
  },
  {
   "cell_type": "markdown",
   "metadata": {},
   "source": [
    "Noet that `alias` is **lexically scoped**,  which allows you to set aliass inside specific functions"
   ]
  },
  {
   "cell_type": "code",
   "execution_count": 16,
   "metadata": {},
   "outputs": [
    {
     "data": {
      "text/plain": [
       "{:module, Math, <<70, 79, 82, 49, 0, 0, 4, 88, 66, 69, 65, 77, 65, 116, 85, 56, 0, 0, 0, 150, 0, 0, 0, 16, 11, 69, 108, 105, 120, 105, 114, 46, 77, 97, 116, 104, 8, 95, 95, 105, 110, 102, 111, 95, 95, 9, 102, ...>>, {:minus, 2}}"
      ]
     },
     "execution_count": 16,
     "metadata": {},
     "output_type": "execute_result"
    }
   ],
   "source": [
    "defmodule Math do \n",
    "def plus(a, b) do\n",
    "alias Math.List\n",
    "# ...\n",
    "end\n",
    "\n",
    "def minus(a, b) do\n",
    "#...\n",
    "end\n",
    "end"
   ]
  },
  {
   "cell_type": "markdown",
   "metadata": {},
   "source": [
    "In the example above, since we are invoking `alias` inside the function `plus/2`, the alias will be valid only inside the function `plus/2`. `minus/2` won't be affected at all."
   ]
  },
  {
   "cell_type": "markdown",
   "metadata": {},
   "source": [
    "## require"
   ]
  },
  {
   "cell_type": "markdown",
   "metadata": {},
   "source": [
    "Elixir provides macros as a mechanism for meta-programming(writing code that generate code). Macros are expanded at compile time."
   ]
  },
  {
   "cell_type": "markdown",
   "metadata": {},
   "source": [
    "Public functions in modules are globally available, but in order to use macros, you need to opt-in by requiring the module they are defined in"
   ]
  },
  {
   "cell_type": "code",
   "execution_count": 17,
   "metadata": {},
   "outputs": [
    {
     "ename": "CompileError",
     "evalue": "1",
     "output_type": "error",
     "traceback": [
      "** (CompileError) console:1 \"you must require Integer before invoking the macro Integer.is_odd/1\""
     ]
    }
   ],
   "source": [
    "Integer.is_odd(3)"
   ]
  },
  {
   "cell_type": "code",
   "execution_count": 18,
   "metadata": {},
   "outputs": [
    {
     "data": {
      "text/plain": [
       "Integer"
      ]
     },
     "execution_count": 18,
     "metadata": {},
     "output_type": "execute_result"
    }
   ],
   "source": [
    "require Integer"
   ]
  },
  {
   "cell_type": "code",
   "execution_count": 21,
   "metadata": {},
   "outputs": [
    {
     "data": {
      "text/plain": [
       "true"
      ]
     },
     "execution_count": 21,
     "metadata": {},
     "output_type": "execute_result"
    }
   ],
   "source": [
    "Integer.is_odd(3)"
   ]
  },
  {
   "cell_type": "markdown",
   "metadata": {},
   "source": [
    "## use"
   ]
  },
  {
   "cell_type": "markdown",
   "metadata": {},
   "source": [
    "The `use` macro is frequently used as an extension point. This means that, when you `use` a module `FooBar`, you allow that module to inject any code in the current module, such as importing itself or other modules, defining new functions, setting a module state, etc"
   ]
  },
  {
   "cell_type": "code",
   "execution_count": 23,
   "metadata": {},
   "outputs": [
    {
     "ename": "RuntimeError",
     "evalue": "1",
     "output_type": "error",
     "traceback": [
      "** %RuntimeError{message: \"cannot use ExUnit.Case without starting the ExUnit application, please call ExUnit.start() or explicitly start the :ex_unit app\"}"
     ]
    }
   ],
   "source": [
    "defmodule AssertTest do\n",
    "use ExUnit.Case, async: true\n",
    "\n",
    "test \"always pass\" do\n",
    "assert true\n",
    "end\n",
    "end"
   ]
  },
  {
   "cell_type": "code",
   "execution_count": 25,
   "metadata": {},
   "outputs": [
    {
     "data": {
      "text/plain": [
       "{:module, Feature, <<70, 79, 82, 49, 0, 0, 4, 64, 66, 69, 65, 77, 65, 116, 85, 56, 0, 0, 0, 146, 0, 0, 0, 15, 14, 69, 108, 105, 120, 105, 114, 46, 70, 101, 97, 116, 117, 114, 101, 8, 95, 95, 105, 110, 102, 111, 95, ...>>, {:__using__, 1}}"
      ]
     },
     "execution_count": 25,
     "metadata": {},
     "output_type": "execute_result"
    }
   ],
   "source": [
    "defmodule Feature do\n",
    "def __using__(t) do\n",
    "IO.puts \"wowowo\"\n",
    "end\n",
    "end"
   ]
  },
  {
   "cell_type": "code",
   "execution_count": 26,
   "metadata": {},
   "outputs": [
    {
     "name": "stdout",
     "output_type": "stream",
     "text": [
      "wowowo\n"
     ]
    },
    {
     "data": {
      "text/plain": [
       "{:module, Example, <<70, 79, 82, 49, 0, 0, 3, 72, 66, 69, 65, 77, 65, 116, 85, 56, 0, 0, 0, 121, 0, 0, 0, 12, 14, 69, 108, 105, 120, 105, 114, 46, 69, 120, 97, 109, 112, 108, 101, 8, 95, 95, 105, 110, 102, 111, 95, ...>>, :ok}"
      ]
     },
     "execution_count": 26,
     "metadata": {},
     "output_type": "execute_result"
    }
   ],
   "source": [
    "defmodule Example do\n",
    "use Feature\n",
    "end"
   ]
  },
  {
   "cell_type": "markdown",
   "metadata": {},
   "source": [
    "Behind the scenes, `use` requires the given module and then calls the `__using__/1` callback on it allowing the module to inject some code into the current context. "
   ]
  },
  {
   "cell_type": "markdown",
   "metadata": {},
   "source": [
    "Generally speaking, the following module:"
   ]
  },
  {
   "cell_type": "code",
   "execution_count": 27,
   "metadata": {},
   "outputs": [
    {
     "name": "stdout",
     "output_type": "stream",
     "text": [
      "wowowo\n"
     ]
    },
    {
     "data": {
      "text/plain": [
       "{:module, Example, <<70, 79, 82, 49, 0, 0, 3, 72, 66, 69, 65, 77, 65, 116, 85, 56, 0, 0, 0, 121, 0, 0, 0, 12, 14, 69, 108, 105, 120, 105, 114, 46, 69, 120, 97, 109, 112, 108, 101, 8, 95, 95, 105, 110, 102, 111, 95, ...>>, :ok}"
      ]
     },
     "execution_count": 27,
     "metadata": {},
     "output_type": "execute_result"
    }
   ],
   "source": [
    "defmodule Example do\n",
    "use Feature, option: :value\n",
    "end"
   ]
  },
  {
   "cell_type": "markdown",
   "metadata": {},
   "source": [
    "is compiled into"
   ]
  },
  {
   "cell_type": "code",
   "execution_count": 28,
   "metadata": {},
   "outputs": [
    {
     "name": "stdout",
     "output_type": "stream",
     "text": [
      "wowowo\n"
     ]
    },
    {
     "data": {
      "text/plain": [
       "{:module, Example, <<70, 79, 82, 49, 0, 0, 3, 72, 66, 69, 65, 77, 65, 116, 85, 56, 0, 0, 0, 121, 0, 0, 0, 12, 14, 69, 108, 105, 120, 105, 114, 46, 69, 120, 97, 109, 112, 108, 101, 8, 95, 95, 105, 110, 102, 111, 95, ...>>, :ok}"
      ]
     },
     "execution_count": 28,
     "metadata": {},
     "output_type": "execute_result"
    }
   ],
   "source": [
    "defmodule Example do\n",
    "require Feature\n",
    "Feature.__using__(option: :value)\n",
    "end"
   ]
  },
  {
   "cell_type": "markdown",
   "metadata": {},
   "source": [
    "Since `use` allows any code to run, we can't really know the side-effects of using a module without reading its documentation. For this reason, `import` and `alias` are often preferred."
   ]
  },
  {
   "cell_type": "markdown",
   "metadata": {},
   "source": [
    "## Understanding Aliases"
   ]
  },
  {
   "cell_type": "code",
   "execution_count": 29,
   "metadata": {},
   "outputs": [
    {
     "data": {
      "text/plain": [
       "true"
      ]
     },
     "execution_count": 29,
     "metadata": {},
     "output_type": "execute_result"
    }
   ],
   "source": [
    "is_atom(String)"
   ]
  },
  {
   "cell_type": "code",
   "execution_count": 30,
   "metadata": {},
   "outputs": [
    {
     "data": {
      "text/plain": [
       "\"Elixir.String\""
      ]
     },
     "execution_count": 30,
     "metadata": {},
     "output_type": "execute_result"
    }
   ],
   "source": [
    "to_string(String)"
   ]
  },
  {
   "cell_type": "code",
   "execution_count": 31,
   "metadata": {},
   "outputs": [
    {
     "data": {
      "text/plain": [
       "true"
      ]
     },
     "execution_count": 31,
     "metadata": {},
     "output_type": "execute_result"
    }
   ],
   "source": [
    ":\"Elixir.String\" == String"
   ]
  },
  {
   "cell_type": "code",
   "execution_count": 33,
   "metadata": {},
   "outputs": [
    {
     "data": {
      "text/plain": [
       "true"
      ]
     },
     "execution_count": 33,
     "metadata": {},
     "output_type": "execute_result"
    }
   ],
   "source": [
    ":\"Elixir.String\" === String"
   ]
  },
  {
   "cell_type": "markdown",
   "metadata": {},
   "source": [
    "Aliases expand to atoms because in the Erlang VM(and consequently Elixir) modules are always represented by atoms. "
   ]
  },
  {
   "cell_type": "code",
   "execution_count": 34,
   "metadata": {},
   "outputs": [
    {
     "data": {
      "text/plain": [
       "[1, 2, 3]"
      ]
     },
     "execution_count": 34,
     "metadata": {},
     "output_type": "execute_result"
    }
   ],
   "source": [
    ":lists.flatten([1, [2], 3])"
   ]
  },
  {
   "cell_type": "markdown",
   "metadata": {},
   "source": [
    "In Elixir, you don't have to define the `Foo` module before being able to define the `Foo.Bar` module, as the language translates all the module names to atoms. You can define arbitrarily-nested modules without defining any module in the chain(e.g., `Foo.Bar.Baz` without defining `Foo` or `Foo.Bar` first)"
   ]
  },
  {
   "cell_type": "code",
   "execution_count": 35,
   "metadata": {},
   "outputs": [
    {
     "data": {
      "text/plain": [
       "{:module, T.B.C, <<70, 79, 82, 49, 0, 0, 3, 208, 66, 69, 65, 77, 65, 116, 85, 56, 0, 0, 0, 121, 0, 0, 0, 13, 12, 69, 108, 105, 120, 105, 114, 46, 84, 46, 66, 46, 67, 8, 95, 95, 105, 110, 102, 111, 95, 95, 9, ...>>, {:m, 0}}"
      ]
     },
     "execution_count": 35,
     "metadata": {},
     "output_type": "execute_result"
    }
   ],
   "source": [
    "defmodule T.B.C do\n",
    "  def m do\n",
    "   1\n",
    "   end\n",
    "   end\n",
    "   "
   ]
  },
  {
   "cell_type": "code",
   "execution_count": 36,
   "metadata": {},
   "outputs": [
    {
     "data": {
      "text/plain": [
       "1"
      ]
     },
     "execution_count": 36,
     "metadata": {},
     "output_type": "execute_result"
    }
   ],
   "source": [
    "T.B.C.m"
   ]
  },
  {
   "cell_type": "code",
   "execution_count": null,
   "metadata": {},
   "outputs": [],
   "source": []
  },
  {
   "cell_type": "code",
   "execution_count": null,
   "metadata": {},
   "outputs": [],
   "source": []
  },
  {
   "cell_type": "code",
   "execution_count": null,
   "metadata": {},
   "outputs": [],
   "source": []
  }
 ],
 "metadata": {
  "kernelspec": {
   "display_name": "Elixir",
   "language": "Elixir",
   "name": "ielixir"
  },
  "language_info": {
   "codemirror_mode": "elixir",
   "file_extension": "ex",
   "mimetype": "text/x-elixir",
   "name": "elixir",
   "nbconvert_exporter": "",
   "pygments_lexer": "elixir",
   "version": "#Version<1.6.5>"
  }
 },
 "nbformat": 4,
 "nbformat_minor": 2
}
